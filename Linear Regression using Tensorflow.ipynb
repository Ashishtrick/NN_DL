{
 "cells": [
  {
   "cell_type": "markdown",
   "id": "6c188c41",
   "metadata": {},
   "source": [
    "# Linear Regression using TensorFlow"
   ]
  },
  {
   "cell_type": "markdown",
   "id": "b7388ad7",
   "metadata": {},
   "source": [
    "## Import the necessary libraries"
   ]
  },
  {
   "cell_type": "code",
   "execution_count": 37,
   "id": "1eb1fd3e",
   "metadata": {},
   "outputs": [],
   "source": [
    "from sklearn.datasets import fetch_california_housing\n",
    "from sklearn.model_selection import train_test_split\n",
    "from sklearn.preprocessing import StandardScaler\n",
    "import tensorflow as tf\n",
    "from tensorflow import keras\n",
    "from sklearn.metrics import accuracy_score"
   ]
  },
  {
   "cell_type": "markdown",
   "id": "18de9021",
   "metadata": {},
   "source": [
    "## Fetch the data (here california housing dataset is used)"
   ]
  },
  {
   "cell_type": "code",
   "execution_count": 39,
   "id": "77872337",
   "metadata": {},
   "outputs": [
    {
     "name": "stdout",
     "output_type": "stream",
     "text": [
      "{'data': array([[   8.3252    ,   41.        ,    6.98412698, ...,    2.55555556,\n",
      "          37.88      , -122.23      ],\n",
      "       [   8.3014    ,   21.        ,    6.23813708, ...,    2.10984183,\n",
      "          37.86      , -122.22      ],\n",
      "       [   7.2574    ,   52.        ,    8.28813559, ...,    2.80225989,\n",
      "          37.85      , -122.24      ],\n",
      "       ...,\n",
      "       [   1.7       ,   17.        ,    5.20554273, ...,    2.3256351 ,\n",
      "          39.43      , -121.22      ],\n",
      "       [   1.8672    ,   18.        ,    5.32951289, ...,    2.12320917,\n",
      "          39.43      , -121.32      ],\n",
      "       [   2.3886    ,   16.        ,    5.25471698, ...,    2.61698113,\n",
      "          39.37      , -121.24      ]]), 'target': array([4.526, 3.585, 3.521, ..., 0.923, 0.847, 0.894]), 'frame': None, 'target_names': ['MedHouseVal'], 'feature_names': ['MedInc', 'HouseAge', 'AveRooms', 'AveBedrms', 'Population', 'AveOccup', 'Latitude', 'Longitude'], 'DESCR': '.. _california_housing_dataset:\\n\\nCalifornia Housing dataset\\n--------------------------\\n\\n**Data Set Characteristics:**\\n\\n:Number of Instances: 20640\\n\\n:Number of Attributes: 8 numeric, predictive attributes and the target\\n\\n:Attribute Information:\\n    - MedInc        median income in block group\\n    - HouseAge      median house age in block group\\n    - AveRooms      average number of rooms per household\\n    - AveBedrms     average number of bedrooms per household\\n    - Population    block group population\\n    - AveOccup      average number of household members\\n    - Latitude      block group latitude\\n    - Longitude     block group longitude\\n\\n:Missing Attribute Values: None\\n\\nThis dataset was obtained from the StatLib repository.\\nhttps://www.dcc.fc.up.pt/~ltorgo/Regression/cal_housing.html\\n\\nThe target variable is the median house value for California districts,\\nexpressed in hundreds of thousands of dollars ($100,000).\\n\\nThis dataset was derived from the 1990 U.S. census, using one row per census\\nblock group. A block group is the smallest geographical unit for which the U.S.\\nCensus Bureau publishes sample data (a block group typically has a population\\nof 600 to 3,000 people).\\n\\nA household is a group of people residing within a home. Since the average\\nnumber of rooms and bedrooms in this dataset are provided per household, these\\ncolumns may take surprisingly large values for block groups with few households\\nand many empty houses, such as vacation resorts.\\n\\nIt can be downloaded/loaded using the\\n:func:`sklearn.datasets.fetch_california_housing` function.\\n\\n.. topic:: References\\n\\n    - Pace, R. Kelley and Ronald Barry, Sparse Spatial Autoregressions,\\n      Statistics and Probability Letters, 33 (1997) 291-297\\n'}\n"
     ]
    }
   ],
   "source": [
    "housing = fetch_california_housing()\n",
    "print(housing)"
   ]
  },
  {
   "cell_type": "markdown",
   "id": "03f3655d",
   "metadata": {},
   "source": [
    "## Data Preprocessing"
   ]
  },
  {
   "cell_type": "markdown",
   "id": "12f2c4d1",
   "metadata": {},
   "source": [
    "### Splitting the full data into train and test"
   ]
  },
  {
   "cell_type": "code",
   "execution_count": 42,
   "id": "32450335",
   "metadata": {},
   "outputs": [
    {
     "data": {
      "text/plain": [
       "(array([[   3.8056    ,   29.        ,    6.39130435, ...,    3.10724638,\n",
       "           36.83      , -119.91      ],\n",
       "        [   3.1597    ,   30.        ,    6.09777778, ...,    4.65333333,\n",
       "           34.08      , -117.62      ],\n",
       "        [   3.5221    ,   52.        ,    4.8340081 , ...,    2.18218623,\n",
       "           37.78      , -122.47      ],\n",
       "        ...,\n",
       "        [   1.7714    ,   27.        ,    2.5325    , ...,    2.6675    ,\n",
       "           33.9       , -118.29      ],\n",
       "        [   1.7038    ,   13.        ,    2.61583578, ...,    3.16422287,\n",
       "           34.04      , -118.27      ],\n",
       "        [   4.9312    ,   46.        ,    6.05238095, ...,    2.72857143,\n",
       "           34.2       , -118.13      ]]),\n",
       " array([[   3.8292    ,   36.        ,    6.69498069, ...,    2.33204633,\n",
       "           34.15      , -117.28      ],\n",
       "        [   6.7172    ,    3.        ,   11.28738318, ...,    2.91705607,\n",
       "           33.98      , -117.76      ],\n",
       "        [   4.3056    ,   39.        ,    5.90797546, ...,    2.76278119,\n",
       "           38.2       , -122.66      ],\n",
       "        ...,\n",
       "        [   2.4805    ,   11.        ,    6.59498956, ...,    2.80375783,\n",
       "           41.75      , -124.23      ],\n",
       "        [   3.9464    ,   20.        ,    7.6443299 , ...,    3.40206186,\n",
       "           34.05      , -117.49      ],\n",
       "        [   3.1235    ,   17.        ,    3.60026385, ...,    1.85224274,\n",
       "           34.04      , -118.46      ]]),\n",
       " array([1.654, 1.163, 4.433, ..., 1.594, 1.181, 2.402]),\n",
       " array([1.222, 2.924, 2.513, ..., 0.732, 2.077, 4.208]))"
      ]
     },
     "execution_count": 42,
     "metadata": {},
     "output_type": "execute_result"
    }
   ],
   "source": [
    "X_train_full, X_test, y_train_full, y_test = train_test_split(housing.data, housing.target)\n",
    "X_train_full, X_test, y_train_full, y_test"
   ]
  },
  {
   "cell_type": "markdown",
   "id": "ab120fc0",
   "metadata": {},
   "source": [
    "### Splitting the training data "
   ]
  },
  {
   "cell_type": "code",
   "execution_count": 44,
   "id": "f3a4ed73",
   "metadata": {},
   "outputs": [
    {
     "data": {
      "text/plain": [
       "(array([[   1.5625    ,   36.        ,    5.20320856, ...,    3.27807487,\n",
       "           35.34      , -119.01      ],\n",
       "        [   5.8972    ,   35.        ,    5.6635514 , ...,    2.65732087,\n",
       "           33.83      , -118.34      ],\n",
       "        [   2.9081    ,   36.        ,    5.09502262, ...,    2.52714932,\n",
       "           36.77      , -119.82      ],\n",
       "        ...,\n",
       "        [   2.4196    ,   41.        ,    6.80701754, ...,    2.78362573,\n",
       "           36.95      , -120.08      ],\n",
       "        [   4.2222    ,   18.        ,    6.43631436, ...,    2.8401084 ,\n",
       "           34.64      , -120.08      ],\n",
       "        [   4.8405    ,   17.        ,    6.03267974, ...,    2.7486174 ,\n",
       "           37.43      , -122.43      ]]),\n",
       " array([[   2.4022    ,   47.        ,    4.74184783, ...,    2.93206522,\n",
       "           34.01      , -118.32      ],\n",
       "        [   6.2917    ,   39.        ,    5.31280389, ...,    2.14100486,\n",
       "           34.02      , -118.44      ],\n",
       "        [   1.5625    ,   33.        ,    3.62345679, ...,    4.50617284,\n",
       "           36.61      , -119.53      ],\n",
       "        ...,\n",
       "        [   1.5491    ,    9.        ,    5.64183381, ...,    2.30659026,\n",
       "           34.13      , -116.35      ],\n",
       "        [   2.125     ,   41.        ,    4.7826087 , ...,    3.74879227,\n",
       "           33.89      , -118.22      ],\n",
       "        [   3.5583    ,   44.        ,    4.5122807 , ...,    2.24561404,\n",
       "           34.17      , -118.35      ]]),\n",
       " array([0.467, 3.509, 0.656, ..., 0.707, 3.75 , 3.543]),\n",
       " array([1.234, 4.657, 0.558, ..., 0.623, 1.202, 2.32 ]))"
      ]
     },
     "execution_count": 44,
     "metadata": {},
     "output_type": "execute_result"
    }
   ],
   "source": [
    "X_train, X_valid, y_train, y_valid = train_test_split(X_train_full, y_train_full)\n",
    "X_train, X_valid, y_train, y_valid"
   ]
  },
  {
   "cell_type": "markdown",
   "id": "1e50085f",
   "metadata": {},
   "source": [
    "## Dimensionality Reduction using transform and fit transform"
   ]
  },
  {
   "cell_type": "code",
   "execution_count": 46,
   "id": "d654e706",
   "metadata": {},
   "outputs": [
    {
     "data": {
      "text/plain": [
       "array([[-1.19722993,  0.58122344, -0.09642657, ...,  0.0137734 ,\n",
       "        -0.13531396,  0.27780627],\n",
       "       [ 1.0469434 ,  0.50142962,  0.11328139, ..., -0.03461135,\n",
       "        -0.8422334 ,  0.6128427 ],\n",
       "       [-0.50058203,  0.58122344, -0.14571039, ..., -0.04475759,\n",
       "         0.5341528 , -0.12723778],\n",
       "       ...,\n",
       "       [-0.75348965,  0.98019256,  0.63418437, ..., -0.0247665 ,\n",
       "         0.61842134, -0.25725192],\n",
       "       [ 0.17975759, -0.8550654 ,  0.46531152, ..., -0.02036396,\n",
       "        -0.46302496, -0.25725192],\n",
       "       [ 0.49986565, -0.93485922,  0.28143683, ..., -0.02749523,\n",
       "         0.84313746, -1.43237972]])"
      ]
     },
     "execution_count": 46,
     "metadata": {},
     "output_type": "execute_result"
    }
   ],
   "source": [
    "scaler = StandardScaler()\n",
    "X_train = scaler.fit_transform(X_train)\n",
    "X_train"
   ]
  },
  {
   "cell_type": "code",
   "execution_count": 47,
   "id": "39d557c1",
   "metadata": {},
   "outputs": [
    {
     "data": {
      "text/plain": [
       "array([[-0.76249803,  1.45895551, -0.30659823, ..., -0.01319637,\n",
       "        -0.75796486,  0.62284379],\n",
       "       [ 1.25118508,  0.82060491, -0.04650071, ..., -0.07485567,\n",
       "        -0.75328327,  0.56283726],\n",
       "       [-1.19722993,  0.34184197, -0.81607831, ...,  0.10949765,\n",
       "         0.45924743,  0.01777799],\n",
       "       ...,\n",
       "       [-1.20416741, -1.57320982,  0.103388  , ..., -0.06194909,\n",
       "        -0.70178583,  1.60795092],\n",
       "       [-0.90601081,  0.98019256, -0.28802973, ...,  0.05046352,\n",
       "        -0.81414389,  0.67284923],\n",
       "       [-0.16395862,  1.21957404, -0.41117693, ..., -0.06670189,\n",
       "        -0.68305949,  0.60784216]])"
      ]
     },
     "execution_count": 47,
     "metadata": {},
     "output_type": "execute_result"
    }
   ],
   "source": [
    "X_valid = scaler.transform(X_valid)\n",
    "X_valid"
   ]
  },
  {
   "cell_type": "code",
   "execution_count": 48,
   "id": "88b6fd00",
   "metadata": {},
   "outputs": [
    {
     "data": {
      "text/plain": [
       "array([[-0.02370749,  0.58122344,  0.58314628, ..., -0.05996492,\n",
       "        -0.69242266,  1.14290035],\n",
       "       [ 1.47147616, -2.05197277,  2.67520308, ..., -0.01436626,\n",
       "        -0.77200962,  0.90287424],\n",
       "       [ 0.22293568,  0.82060491,  0.22462813, ..., -0.02639124,\n",
       "         1.20361956, -1.54739223],\n",
       "       ...,\n",
       "       [-0.72196033, -1.41362217,  0.53759558, ..., -0.02319731,\n",
       "         2.86558249, -2.33247761],\n",
       "       [ 0.03696963, -0.69547775,  1.0156198 , ...,  0.02343758,\n",
       "        -0.73923852,  1.03788893],\n",
       "       [-0.38906452, -0.93485922, -0.82664379, ..., -0.09736327,\n",
       "        -0.7439201 ,  0.55283618]])"
      ]
     },
     "execution_count": 48,
     "metadata": {},
     "output_type": "execute_result"
    }
   ],
   "source": [
    "X_test = scaler.transform(X_test)\n",
    "X_test"
   ]
  },
  {
   "cell_type": "markdown",
   "id": "4458974a",
   "metadata": {},
   "source": [
    "# Training"
   ]
  },
  {
   "cell_type": "markdown",
   "id": "7ab0af11",
   "metadata": {},
   "source": [
    "### Selecting the model for neural network with the activation function "
   ]
  },
  {
   "cell_type": "code",
   "execution_count": 51,
   "id": "f5f3b629",
   "metadata": {},
   "outputs": [
    {
     "name": "stderr",
     "output_type": "stream",
     "text": [
      "C:\\Users\\vishe\\anaconda3\\Lib\\site-packages\\keras\\src\\layers\\core\\dense.py:87: UserWarning: Do not pass an `input_shape`/`input_dim` argument to a layer. When using Sequential models, prefer using an `Input(shape)` object as the first layer in the model instead.\n",
      "  super().__init__(activity_regularizer=activity_regularizer, **kwargs)\n"
     ]
    }
   ],
   "source": [
    "model = keras.models.Sequential([keras.layers.Dense(30, activation=\"relu\", input_shape=X_train.shape[1:]), keras.layers.Dense(1)])\n",
    "model.compile(loss=\"mean_squared_error\", optimizer=\"sgd\")"
   ]
  },
  {
   "cell_type": "markdown",
   "id": "0ad78e0a",
   "metadata": {},
   "source": [
    "### Training the model "
   ]
  },
  {
   "cell_type": "code",
   "execution_count": 53,
   "id": "66af5d09",
   "metadata": {},
   "outputs": [
    {
     "name": "stdout",
     "output_type": "stream",
     "text": [
      "Epoch 1/20\n",
      "\u001b[1m363/363\u001b[0m \u001b[32m━━━━━━━━━━━━━━━━━━━━\u001b[0m\u001b[37m\u001b[0m \u001b[1m1s\u001b[0m 3ms/step - loss: 1.5338 - val_loss: 0.6084\n",
      "Epoch 2/20\n",
      "\u001b[1m363/363\u001b[0m \u001b[32m━━━━━━━━━━━━━━━━━━━━\u001b[0m\u001b[37m\u001b[0m \u001b[1m1s\u001b[0m 2ms/step - loss: 0.5602 - val_loss: 0.5310\n",
      "Epoch 3/20\n",
      "\u001b[1m363/363\u001b[0m \u001b[32m━━━━━━━━━━━━━━━━━━━━\u001b[0m\u001b[37m\u001b[0m \u001b[1m1s\u001b[0m 2ms/step - loss: 1.2506 - val_loss: 0.5301\n",
      "Epoch 4/20\n",
      "\u001b[1m363/363\u001b[0m \u001b[32m━━━━━━━━━━━━━━━━━━━━\u001b[0m\u001b[37m\u001b[0m \u001b[1m1s\u001b[0m 2ms/step - loss: 0.4670 - val_loss: 0.5288\n",
      "Epoch 5/20\n",
      "\u001b[1m363/363\u001b[0m \u001b[32m━━━━━━━━━━━━━━━━━━━━\u001b[0m\u001b[37m\u001b[0m \u001b[1m1s\u001b[0m 2ms/step - loss: 0.4421 - val_loss: 0.4697\n",
      "Epoch 6/20\n",
      "\u001b[1m363/363\u001b[0m \u001b[32m━━━━━━━━━━━━━━━━━━━━\u001b[0m\u001b[37m\u001b[0m \u001b[1m1s\u001b[0m 2ms/step - loss: 0.4254 - val_loss: 0.4671\n",
      "Epoch 7/20\n",
      "\u001b[1m363/363\u001b[0m \u001b[32m━━━━━━━━━━━━━━━━━━━━\u001b[0m\u001b[37m\u001b[0m \u001b[1m1s\u001b[0m 2ms/step - loss: 0.4266 - val_loss: 0.4813\n",
      "Epoch 8/20\n",
      "\u001b[1m363/363\u001b[0m \u001b[32m━━━━━━━━━━━━━━━━━━━━\u001b[0m\u001b[37m\u001b[0m \u001b[1m1s\u001b[0m 2ms/step - loss: 0.4207 - val_loss: 0.4435\n",
      "Epoch 9/20\n",
      "\u001b[1m363/363\u001b[0m \u001b[32m━━━━━━━━━━━━━━━━━━━━\u001b[0m\u001b[37m\u001b[0m \u001b[1m1s\u001b[0m 2ms/step - loss: 0.4023 - val_loss: 0.4434\n",
      "Epoch 10/20\n",
      "\u001b[1m363/363\u001b[0m \u001b[32m━━━━━━━━━━━━━━━━━━━━\u001b[0m\u001b[37m\u001b[0m \u001b[1m1s\u001b[0m 2ms/step - loss: 0.4110 - val_loss: 0.4355\n",
      "Epoch 11/20\n",
      "\u001b[1m363/363\u001b[0m \u001b[32m━━━━━━━━━━━━━━━━━━━━\u001b[0m\u001b[37m\u001b[0m \u001b[1m1s\u001b[0m 2ms/step - loss: 0.3777 - val_loss: 0.4303\n",
      "Epoch 12/20\n",
      "\u001b[1m363/363\u001b[0m \u001b[32m━━━━━━━━━━━━━━━━━━━━\u001b[0m\u001b[37m\u001b[0m \u001b[1m1s\u001b[0m 2ms/step - loss: 0.3829 - val_loss: 0.4327\n",
      "Epoch 13/20\n",
      "\u001b[1m363/363\u001b[0m \u001b[32m━━━━━━━━━━━━━━━━━━━━\u001b[0m\u001b[37m\u001b[0m \u001b[1m1s\u001b[0m 2ms/step - loss: 0.4000 - val_loss: 0.4322\n",
      "Epoch 14/20\n",
      "\u001b[1m363/363\u001b[0m \u001b[32m━━━━━━━━━━━━━━━━━━━━\u001b[0m\u001b[37m\u001b[0m \u001b[1m1s\u001b[0m 2ms/step - loss: 0.3685 - val_loss: 0.4301\n",
      "Epoch 15/20\n",
      "\u001b[1m363/363\u001b[0m \u001b[32m━━━━━━━━━━━━━━━━━━━━\u001b[0m\u001b[37m\u001b[0m \u001b[1m1s\u001b[0m 2ms/step - loss: 0.3740 - val_loss: 0.4189\n",
      "Epoch 16/20\n",
      "\u001b[1m363/363\u001b[0m \u001b[32m━━━━━━━━━━━━━━━━━━━━\u001b[0m\u001b[37m\u001b[0m \u001b[1m1s\u001b[0m 2ms/step - loss: 0.3810 - val_loss: 0.4192\n",
      "Epoch 17/20\n",
      "\u001b[1m363/363\u001b[0m \u001b[32m━━━━━━━━━━━━━━━━━━━━\u001b[0m\u001b[37m\u001b[0m \u001b[1m1s\u001b[0m 2ms/step - loss: 0.3882 - val_loss: 0.4164\n",
      "Epoch 18/20\n",
      "\u001b[1m363/363\u001b[0m \u001b[32m━━━━━━━━━━━━━━━━━━━━\u001b[0m\u001b[37m\u001b[0m \u001b[1m1s\u001b[0m 2ms/step - loss: 0.3920 - val_loss: 0.4139\n",
      "Epoch 19/20\n",
      "\u001b[1m363/363\u001b[0m \u001b[32m━━━━━━━━━━━━━━━━━━━━\u001b[0m\u001b[37m\u001b[0m \u001b[1m1s\u001b[0m 2ms/step - loss: 0.3740 - val_loss: 0.4163\n",
      "Epoch 20/20\n",
      "\u001b[1m363/363\u001b[0m \u001b[32m━━━━━━━━━━━━━━━━━━━━\u001b[0m\u001b[37m\u001b[0m \u001b[1m1s\u001b[0m 2ms/step - loss: 0.3667 - val_loss: 0.5118\n"
     ]
    }
   ],
   "source": [
    "history = model.fit(X_train, y_train, epochs=20,validation_data=(X_valid, y_valid))"
   ]
  },
  {
   "cell_type": "markdown",
   "id": "1109d6d4",
   "metadata": {},
   "source": [
    "## Evaluation"
   ]
  },
  {
   "cell_type": "markdown",
   "id": "c14e461e",
   "metadata": {},
   "source": [
    "### Mean Square Error test"
   ]
  },
  {
   "cell_type": "code",
   "execution_count": 56,
   "id": "b045d539",
   "metadata": {},
   "outputs": [
    {
     "name": "stdout",
     "output_type": "stream",
     "text": [
      "\u001b[1m162/162\u001b[0m \u001b[32m━━━━━━━━━━━━━━━━━━━━\u001b[0m\u001b[37m\u001b[0m \u001b[1m0s\u001b[0m 1ms/step - loss: 0.4142\n"
     ]
    },
    {
     "data": {
      "text/plain": [
       "0.3893982768058777"
      ]
     },
     "execution_count": 56,
     "metadata": {},
     "output_type": "execute_result"
    }
   ],
   "source": [
    "mse_test = model.evaluate(X_test, y_test)\n",
    "mse_test"
   ]
  },
  {
   "cell_type": "markdown",
   "id": "a3da2161",
   "metadata": {},
   "source": [
    "### Testing for new instances"
   ]
  },
  {
   "cell_type": "code",
   "execution_count": 58,
   "id": "44ffd113",
   "metadata": {},
   "outputs": [
    {
     "data": {
      "text/plain": [
       "array([[-0.02370749,  0.58122344,  0.58314628, -0.03527477, -0.74360987,\n",
       "        -0.05996492, -0.69242266,  1.14290035],\n",
       "       [ 1.47147616, -2.05197277,  2.67520308,  1.30760916,  0.99072124,\n",
       "        -0.01436626, -0.77200962,  0.90287424],\n",
       "       [ 0.22293568,  0.82060491,  0.22462813, -0.09485525, -0.05922248,\n",
       "        -0.02639124,  1.20361956, -1.54739223]])"
      ]
     },
     "execution_count": 58,
     "metadata": {},
     "output_type": "execute_result"
    }
   ],
   "source": [
    "X_new = X_test[:3] # pretend these are new instances\n",
    "X_new"
   ]
  },
  {
   "cell_type": "markdown",
   "id": "55034f8c",
   "metadata": {},
   "source": [
    "### Predicting for new instances"
   ]
  },
  {
   "cell_type": "code",
   "execution_count": 60,
   "id": "674184c2",
   "metadata": {},
   "outputs": [
    {
     "name": "stdout",
     "output_type": "stream",
     "text": [
      "\u001b[1m1/1\u001b[0m \u001b[32m━━━━━━━━━━━━━━━━━━━━\u001b[0m\u001b[37m\u001b[0m \u001b[1m0s\u001b[0m 80ms/step\n"
     ]
    },
    {
     "data": {
      "text/plain": [
       "array([[1.5952212],\n",
       "       [2.9242325],\n",
       "       [2.4450407]], dtype=float32)"
      ]
     },
     "execution_count": 60,
     "metadata": {},
     "output_type": "execute_result"
    }
   ],
   "source": [
    "y_pred = model.predict(X_new)\n",
    "y_pred"
   ]
  },
  {
   "cell_type": "markdown",
   "id": "85714124",
   "metadata": {},
   "source": [
    "## Finding the loss"
   ]
  },
  {
   "cell_type": "code",
   "execution_count": 62,
   "id": "18e3d337",
   "metadata": {},
   "outputs": [
    {
     "data": {
      "image/png": "[encoded data removed]",
      "text/plain": [
       "<Figure size 800x500 with 1 Axes>"
      ]
     },
     "metadata": {},
     "output_type": "display_data"
    }
   ],
   "source": [
    "import pandas as pd\n",
    "import matplotlib.pyplot as plt\n",
    "pd.DataFrame(history.history).plot(figsize=(8, 5))\n",
    "plt.grid(True)\n",
    "plt.gca().set_ylim(0, 1) \n",
    "plt.show()"
   ]
  }
 ],
 "metadata": {
  "kernelspec": {
   "display_name": "Python 3 (ipykernel)",
   "language": "python",
   "name": "python3"
  },
  "language_info": {
   "codemirror_mode": {
    "name": "ipython",
    "version": 3
   },
   "file_extension": ".py",
   "mimetype": "text/x-python",
   "name": "python",
   "nbconvert_exporter": "python",
   "pygments_lexer": "ipython3",
   "version": "3.12.4"
  }
 },
 "nbformat": 4,
 "nbformat_minor": 5
}
